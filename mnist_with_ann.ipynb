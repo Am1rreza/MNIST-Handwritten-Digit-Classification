{
 "cells": [
  {
   "cell_type": "markdown",
   "metadata": {},
   "source": [
    "## Import Libraries"
   ]
  },
  {
   "cell_type": "code",
   "execution_count": 1,
   "metadata": {
    "id": "GcWJskWv_1zK"
   },
   "outputs": [],
   "source": [
    "import numpy as np\n",
    "import pandas as pd\n",
    "import matplotlib.pyplot as plt \n",
    "# Sigmoid Function\n",
    "from scipy.special import expit"
   ]
  },
  {
   "cell_type": "markdown",
   "metadata": {},
   "source": [
    "## Neural Network Architecture"
   ]
  },
  {
   "cell_type": "code",
   "execution_count": 2,
   "metadata": {
    "id": "HXp1hMdCwcWP"
   },
   "outputs": [],
   "source": [
    "class NeuralNetwork:\n",
    "\n",
    "  def __init__(self, input_nodes, hidden_nodes, output_nodes, learning_rate):\n",
    "    self.input_nodes = input_nodes\n",
    "    self.hidden_nodes = hidden_nodes\n",
    "    self.output_nodes = output_nodes\n",
    "    self.learning_rate = learning_rate\n",
    "    self.activation_function = lambda x: expit(x)\n",
    "\n",
    "    # Link weight matrices, weights between input and hidden layer, weights between hidden and output layer\n",
    "    self.w_input_hidden = np.random.normal(0.0, pow(self.hidden_nodes, -0.5), (self.hidden_nodes, self.input_nodes))\n",
    "    self.w_hidden_output = np.random.normal(0.0, pow(self.output_nodes, -0.5), (self.output_nodes, self.hidden_nodes))\n",
    "\n",
    "  def train(self, inputs_list, targets_list):\n",
    "    # Forward Propagation\n",
    "    inputs = np.array(inputs_list, ndmin=2).T\n",
    "    targets = np.array(targets_list, ndmin=2).T\n",
    "\n",
    "    hidden_layer_inputs = np.dot(self.w_input_hidden, inputs)\n",
    "    hidden_layer_outputs = self.activation_function(hidden_layer_inputs)\n",
    "\n",
    "    final_layer_inputs = np.dot(self.w_hidden_output, hidden_layer_outputs)\n",
    "    final_layer_outputs = self.activation_function(final_layer_inputs)\n",
    "\n",
    "    # Error Calculation\n",
    "    output_errors = targets - final_layer_outputs\n",
    "    hidden_errors = np.dot(self.w_hidden_output.T, output_errors)\n",
    "\n",
    "    # Update the weights between hidden layer and output layer\n",
    "    self.w_hidden_output += self.learning_rate * np.dot((output_errors * final_layer_outputs * (1.0 - final_layer_outputs)), np.transpose(hidden_layer_outputs))\n",
    "\n",
    "    # Update the weights between hidden layer and output layer\n",
    "    self.w_input_hidden += self.learning_rate * np.dot((hidden_errors * hidden_layer_outputs * (1.0 - hidden_layer_outputs)), np.transpose(inputs))\n",
    "\n",
    "  def query(self, inputs_list):\n",
    "    # Forward Propagation\n",
    "    inputs = np.array(inputs_list, ndmin=2).T\n",
    "\n",
    "    hidden_layer_inputs = np.dot(self.w_input_hidden, inputs)\n",
    "    hidden_layer_outputs = self.activation_function(hidden_layer_inputs)\n",
    "\n",
    "    final_layer_inputs = np.dot(self.w_hidden_output, hidden_layer_outputs)\n",
    "    final_layer_outputs = self.activation_function(final_layer_inputs)\n",
    "\n",
    "    return final_layer_outputs"
   ]
  },
  {
   "cell_type": "markdown",
   "metadata": {},
   "source": [
    "## MNIST Project"
   ]
  },
  {
   "cell_type": "code",
   "execution_count": 3,
   "metadata": {},
   "outputs": [],
   "source": [
    "train_data = pd.read_csv(\"mnist_train.csv\")\n",
    "test_data = pd.read_csv(\"mnist_test.csv\")"
   ]
  },
  {
   "cell_type": "markdown",
   "metadata": {},
   "source": [
    "### Data Visualization"
   ]
  },
  {
   "cell_type": "code",
   "execution_count": 4,
   "metadata": {},
   "outputs": [],
   "source": [
    "def array_to_image(index):\n",
    "    row = train_data.iloc[index].to_numpy()\n",
    "    label = row[0]  \n",
    "    array = row[1:]\n",
    "    image_array = array.reshape(28, 28)\n",
    "    plt.imshow(image_array, cmap=\"Greys\", interpolation='none')\n",
    "    plt.title(f\"Label: {label}\")\n",
    "    plt.show()"
   ]
  },
  {
   "cell_type": "code",
   "execution_count": 5,
   "metadata": {},
   "outputs": [
    {
     "data": {
      "image/png": "[encoded data removed]",
      "text/plain": [
       "<Figure size 640x480 with 1 Axes>"
      ]
     },
     "metadata": {},
     "output_type": "display_data"
    }
   ],
   "source": [
    "array_to_image(0)"
   ]
  },
  {
   "cell_type": "markdown",
   "metadata": {},
   "source": [
    "### Split dataset into the train and the test set"
   ]
  },
  {
   "cell_type": "code",
   "execution_count": 6,
   "metadata": {},
   "outputs": [],
   "source": [
    "X_train = train_data.drop([\"label\"], axis=1).to_numpy()\n",
    "y_train = train_data[\"label\"].to_numpy()\n",
    "\n",
    "X_test = test_data.drop([\"label\"], axis=1).to_numpy()\n",
    "y_test = test_data[\"label\"].to_numpy()"
   ]
  },
  {
   "cell_type": "markdown",
   "metadata": {},
   "source": [
    "### Feature Scaling"
   ]
  },
  {
   "cell_type": "code",
   "execution_count": 7,
   "metadata": {},
   "outputs": [],
   "source": [
    "# All values should be between 0.01 and 1.0\n",
    "X_train = (X_train / 255) * 0.99 + 0.01\n",
    "X_test = (X_test / 255) * 0.99 + 0.01"
   ]
  },
  {
   "cell_type": "markdown",
   "metadata": {},
   "source": [
    "### Train the ANN"
   ]
  },
  {
   "cell_type": "code",
   "execution_count": 8,
   "metadata": {},
   "outputs": [],
   "source": [
    "input_nodes = 784\n",
    "hidden_nodes = 100\n",
    "output_nodes = 10\n",
    "learning_rate = 0.1\n",
    "\n",
    "# Create an instance of neural network\n",
    "nn = NeuralNetwork(\n",
    "    input_nodes,\n",
    "    hidden_nodes,\n",
    "    output_nodes,\n",
    "    learning_rate\n",
    ")"
   ]
  },
  {
   "cell_type": "code",
   "execution_count": 9,
   "metadata": {},
   "outputs": [],
   "source": [
    "for epoch in range(10):\n",
    "    for i in range(len(X_train)):\n",
    "        inputs = X_train[i]\n",
    "        # Create the target output values (all 0.01, except the desired label which is 0.99)\n",
    "        targets = np.zeros(output_nodes) + 0.01\n",
    "        targets[y_train[i]] = 0.99\n",
    "        nn.train(inputs, targets)"
   ]
  },
  {
   "cell_type": "markdown",
   "metadata": {},
   "source": [
    "### Test the network"
   ]
  },
  {
   "cell_type": "code",
   "execution_count": 10,
   "metadata": {},
   "outputs": [],
   "source": [
    "def test_the_network(index):\n",
    "    real_answer = y_test[index]\n",
    "    print(f\"The real answer is: {real_answer}\")\n",
    "\n",
    "    outputs = nn.query(X_test[index])\n",
    "    predicted_answer = np.argmax(outputs)\n",
    "    print(f\"The predicted answer is: {predicted_answer}\")"
   ]
  },
  {
   "cell_type": "code",
   "execution_count": 11,
   "metadata": {},
   "outputs": [
    {
     "name": "stdout",
     "output_type": "stream",
     "text": [
      "The real answer is: 7\n",
      "The predicted answer is: 7\n"
     ]
    }
   ],
   "source": [
    "test_the_network(0)"
   ]
  },
  {
   "cell_type": "markdown",
   "metadata": {},
   "source": [
    "### Evaluate the network"
   ]
  },
  {
   "cell_type": "code",
   "execution_count": 12,
   "metadata": {},
   "outputs": [],
   "source": [
    "scorecard = []\n",
    "\n",
    "for i in range(len(X_test)):\n",
    "    real_answer = y_test[i]\n",
    "    \n",
    "    outputs = nn.query(X_test[i])\n",
    "    predicted_answer = np.argmax(outputs)\n",
    "\n",
    "    if real_answer == predicted_answer:\n",
    "        scorecard.append(1)\n",
    "    else:\n",
    "        scorecard.append(0)"
   ]
  },
  {
   "cell_type": "code",
   "execution_count": 13,
   "metadata": {},
   "outputs": [
    {
     "name": "stdout",
     "output_type": "stream",
     "text": [
      "Accuracy of neural network: 96.87 %\n"
     ]
    }
   ],
   "source": [
    "accuracy = (sum(scorecard) / len(scorecard)) * 100\n",
    "print(f\"Accuracy of neural network: {accuracy} %\")"
   ]
  }
 ],
 "metadata": {
  "colab": {
   "authorship_tag": "ABX9TyPNN7Q646Od0v2H27B7f1XI",
   "provenance": []
  },
  "kernelspec": {
   "display_name": "Python 3 (ipykernel)",
   "language": "python",
   "name": "python3"
  },
  "language_info": {
   "codemirror_mode": {
    "name": "ipython",
    "version": 3
   },
   "file_extension": ".py",
   "mimetype": "text/x-python",
   "name": "python",
   "nbconvert_exporter": "python",
   "pygments_lexer": "ipython3",
   "version": "3.11.8"
  }
 },
 "nbformat": 4,
 "nbformat_minor": 4
}
